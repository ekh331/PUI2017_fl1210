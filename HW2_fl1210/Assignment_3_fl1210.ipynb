{
 "cells": [
  {
   "cell_type": "code",
   "execution_count": 1,
   "metadata": {
    "collapsed": false
   },
   "outputs": [
    {
     "name": "stdout",
     "output_type": "stream",
     "text": [
      "Populating the interactive namespace from numpy and matplotlib\n"
     ]
    }
   ],
   "source": [
    "from __future__ import print_function\n",
    "import numpy as np\n",
    "import pandas as pd\n",
    "\n",
    "import sys\n",
    "import os\n",
    "import pylab as pl\n",
    "%pylab inline"
   ]
  },
  {
   "cell_type": "code",
   "execution_count": 2,
   "metadata": {
    "collapsed": false
   },
   "outputs": [
    {
     "name": "stdout",
     "output_type": "stream",
     "text": [
      "/gws/open/NYCOpenData/nycopendata/data\n"
     ]
    }
   ],
   "source": [
    "# check the environmental variable DFDATA\n",
    "dfdata = os.getenv(\"DFDATA\")\n",
    "print (dfdata)"
   ]
  },
  {
   "cell_type": "code",
   "execution_count": 3,
   "metadata": {
    "collapsed": true
   },
   "outputs": [],
   "source": [
    "#  read in the CSV file from the DF into a pandas dataframe\n",
    "df = pd.read_csv(os.getenv(\"DFDATA\") + \"/kzmz-ivhb/1414245874/kzmz-ivhb\")"
   ]
  },
  {
   "cell_type": "code",
   "execution_count": 4,
   "metadata": {
    "collapsed": false
   },
   "outputs": [
    {
     "data": {
      "text/html": [
       "<div>\n",
       "<table border=\"1\" class=\"dataframe\">\n",
       "  <thead>\n",
       "    <tr style=\"text-align: right;\">\n",
       "      <th></th>\n",
       "      <th>District</th>\n",
       "      <th>Material</th>\n",
       "      <th>Primary Disposal Facility</th>\n",
       "      <th>Location</th>\n",
       "      <th>X Coordinate</th>\n",
       "      <th>Y Coordinate</th>\n",
       "    </tr>\n",
       "  </thead>\n",
       "  <tbody>\n",
       "    <tr>\n",
       "      <th>0</th>\n",
       "      <td>MN01</td>\n",
       "      <td>Refuse</td>\n",
       "      <td>Covanta - Essex</td>\n",
       "      <td>183 Raymond Blvd Newark, NJ</td>\n",
       "      <td>949181.6</td>\n",
       "      <td>208290.4</td>\n",
       "    </tr>\n",
       "    <tr>\n",
       "      <th>1</th>\n",
       "      <td>MN02</td>\n",
       "      <td>Refuse</td>\n",
       "      <td>Covanta - Essex</td>\n",
       "      <td>183 Raymond Blvd Newark, NJ</td>\n",
       "      <td>949181.6</td>\n",
       "      <td>208290.4</td>\n",
       "    </tr>\n",
       "    <tr>\n",
       "      <th>2</th>\n",
       "      <td>MN03</td>\n",
       "      <td>Refuse</td>\n",
       "      <td>Covanta - Essex</td>\n",
       "      <td>183 Raymond Blvd Newark, NJ</td>\n",
       "      <td>949181.6</td>\n",
       "      <td>208290.4</td>\n",
       "    </tr>\n",
       "    <tr>\n",
       "      <th>3</th>\n",
       "      <td>MN04</td>\n",
       "      <td>Refuse</td>\n",
       "      <td>WM - Julia</td>\n",
       "      <td>864 Julia St Elizabeth, NJ</td>\n",
       "      <td>929373.8</td>\n",
       "      <td>182952.1</td>\n",
       "    </tr>\n",
       "    <tr>\n",
       "      <th>4</th>\n",
       "      <td>MN05</td>\n",
       "      <td>Refuse</td>\n",
       "      <td>Covanta - Essex</td>\n",
       "      <td>183 Raymond Blvd Newark, NJ</td>\n",
       "      <td>949181.6</td>\n",
       "      <td>208290.4</td>\n",
       "    </tr>\n",
       "  </tbody>\n",
       "</table>\n",
       "</div>"
      ],
      "text/plain": [
       "  District Material Primary Disposal Facility                     Location  \\\n",
       "0     MN01   Refuse           Covanta - Essex  183 Raymond Blvd Newark, NJ   \n",
       "1     MN02   Refuse           Covanta - Essex  183 Raymond Blvd Newark, NJ   \n",
       "2     MN03   Refuse           Covanta - Essex  183 Raymond Blvd Newark, NJ   \n",
       "3     MN04   Refuse                WM - Julia   864 Julia St Elizabeth, NJ   \n",
       "4     MN05   Refuse           Covanta - Essex  183 Raymond Blvd Newark, NJ   \n",
       "\n",
       "   X Coordinate  Y Coordinate  \n",
       "0      949181.6      208290.4  \n",
       "1      949181.6      208290.4  \n",
       "2      949181.6      208290.4  \n",
       "3      929373.8      182952.1  \n",
       "4      949181.6      208290.4  "
      ]
     },
     "execution_count": 4,
     "metadata": {},
     "output_type": "execute_result"
    }
   ],
   "source": [
    "df.head()"
   ]
  },
  {
   "cell_type": "code",
   "execution_count": 5,
   "metadata": {
    "collapsed": false
   },
   "outputs": [],
   "source": [
    "# drop variables that do not need\n",
    "df.drop(['District', 'Material', 'Primary Disposal Facility', 'Location'], axis=1, inplace=True)"
   ]
  },
  {
   "cell_type": "code",
   "execution_count": 6,
   "metadata": {
    "collapsed": false
   },
   "outputs": [
    {
     "data": {
      "text/html": [
       "<div>\n",
       "<table border=\"1\" class=\"dataframe\">\n",
       "  <thead>\n",
       "    <tr style=\"text-align: right;\">\n",
       "      <th></th>\n",
       "      <th>X Coordinate</th>\n",
       "      <th>Y Coordinate</th>\n",
       "    </tr>\n",
       "  </thead>\n",
       "  <tbody>\n",
       "    <tr>\n",
       "      <th>0</th>\n",
       "      <td>949181.6</td>\n",
       "      <td>208290.4</td>\n",
       "    </tr>\n",
       "    <tr>\n",
       "      <th>1</th>\n",
       "      <td>949181.6</td>\n",
       "      <td>208290.4</td>\n",
       "    </tr>\n",
       "    <tr>\n",
       "      <th>2</th>\n",
       "      <td>949181.6</td>\n",
       "      <td>208290.4</td>\n",
       "    </tr>\n",
       "    <tr>\n",
       "      <th>3</th>\n",
       "      <td>929373.8</td>\n",
       "      <td>182952.1</td>\n",
       "    </tr>\n",
       "    <tr>\n",
       "      <th>4</th>\n",
       "      <td>949181.6</td>\n",
       "      <td>208290.4</td>\n",
       "    </tr>\n",
       "  </tbody>\n",
       "</table>\n",
       "</div>"
      ],
      "text/plain": [
       "   X Coordinate  Y Coordinate\n",
       "0      949181.6      208290.4\n",
       "1      949181.6      208290.4\n",
       "2      949181.6      208290.4\n",
       "3      929373.8      182952.1\n",
       "4      949181.6      208290.4"
      ]
     },
     "execution_count": 6,
     "metadata": {},
     "output_type": "execute_result"
    }
   ],
   "source": [
    "df.head()"
   ]
  },
  {
   "cell_type": "code",
   "execution_count": 7,
   "metadata": {
    "collapsed": false
   },
   "outputs": [
    {
     "data": {
      "text/plain": [
       "<matplotlib.text.Text at 0x7fae89f3aad0>"
      ]
     },
     "execution_count": 7,
     "metadata": {},
     "output_type": "execute_result"
    },
    {
     "data": {
      "image/png": "[encoded data removed]",
      "text/plain": [
       "<matplotlib.figure.Figure at 0x7faefc3c9150>"
      ]
     },
     "metadata": {},
     "output_type": "display_data"
    }
   ],
   "source": [
    "# plot location of Refuse and Recycling Disposal Networks using 2 numerical values columns\n",
    "df.plot(x='X Coordinate', y='Y Coordinate', kind='scatter')\n",
    "plt.title('Location of Refuse and Recycling Disposal Networks',fontsize=10)\n",
    "plt.xlabel('X Coordinate',fontsize=10)\n",
    "plt.ylabel('Y Coordinate',fontsize=10)"
   ]
  },
  {
   "cell_type": "markdown",
   "metadata": {},
   "source": [
    "## Figure 1: \n",
    "\n",
    "Location of Refuse and Recycling Disposal Networks"
   ]
  },
  {
   "cell_type": "code",
   "execution_count": null,
   "metadata": {
    "collapsed": false
   },
   "outputs": [],
   "source": []
  }
 ],
 "metadata": {
  "kernelspec": {
   "display_name": "PUI2016_Python2",
   "language": "python",
   "name": "pui2016_python2"
  },
  "language_info": {
   "codemirror_mode": {
    "name": "ipython",
    "version": 2
   },
   "file_extension": ".py",
   "mimetype": "text/x-python",
   "name": "python",
   "nbconvert_exporter": "python",
   "pygments_lexer": "ipython2",
   "version": "2.7.12"
  }
 },
 "nbformat": 4,
 "nbformat_minor": 0
}
